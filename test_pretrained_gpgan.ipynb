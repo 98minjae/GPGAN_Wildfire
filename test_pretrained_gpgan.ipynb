{
  "nbformat": 4,
  "nbformat_minor": 0,
  "metadata": {
    "colab": {
      "name": "test_pretrained_gpgan",
      "provenance": [],
      "collapsed_sections": []
    },
    "kernelspec": {
      "name": "python3",
      "display_name": "Python 3"
    },
    "language_info": {
      "name": "python"
    },
    "accelerator": "GPU",
    "gpuClass": "standard"
  },
  "cells": [
    {
      "cell_type": "code",
      "execution_count": null,
      "metadata": {
        "colab": {
          "base_uri": "https://localhost:8080/"
        },
        "id": "A-qdmwTr3DIx",
        "outputId": "dea4d74c-f75e-4b7a-b99f-baccbc4e7f6b"
      },
      "outputs": [
        {
          "output_type": "stream",
          "name": "stdout",
          "text": [
            "/content/drive/MyDrive/YAI-alcheraGAN\n"
          ]
        }
      ],
      "source": [
        "%cd /content/drive/MyDrive/YAI-alcheraGAN"
      ]
    },
    {
      "cell_type": "code",
      "source": [
        "# !python run_gp_gan.py --src_image test_images1/src3.jpeg --dst_image test_images1/dst2.jpeg --mask_image test_images1/mask.png --blended_image test_images1/result_image_final.png\n",
        "!python run_gp_gan.py --list_path img_list.csv"
      ],
      "metadata": {
        "colab": {
          "base_uri": "https://localhost:8080/"
        },
        "id": "ckQhzvgk3OaY",
        "outputId": "e1c3d0dd-f915-4bdc-8856-2162e86ec7aa"
      },
      "execution_count": null,
      "outputs": [
        {
          "output_type": "stream",
          "name": "stdout",
          "text": [
            "Input arguments:\n",
            "\tnef: 64\n",
            "\tngf: 64\n",
            "\tnc: 3\n",
            "\tnBottleneck: 4000\n",
            "\tndf: 64\n",
            "\timage_size: 64\n",
            "\tcolor_weight: 1\n",
            "\tsigma: 0.5\n",
            "\tgradient_kernel: normal\n",
            "\tsmooth_sigma: 1\n",
            "\tsupervised: True\n",
            "\tnz: 100\n",
            "\tn_iteration: 1000\n",
            "\tgpu: 0\n",
            "\tg_path: models/blending_gan.npz\n",
            "\tunsupervised_path: models/unsupervised_blending_gan.npz\n",
            "\tlist_path: img_list.csv\n",
            "\tresult_folder: blending_result\n",
            "\tsrc_image: \n",
            "\tdst_image: \n",
            "\tmask_image: \n",
            "\tblended_image: \n",
            "\n",
            "Load pretrained Blending GAN model from models/blending_gan.npz ...\n",
            "Load images from img_list.csv ...\n",
            "\t 1 images in total ...\n",
            "\n",
            "Result will save to blending_result ...\n",
            "\n",
            "Processing 1/1 ...\n"
          ]
        }
      ]
    },
    {
      "cell_type": "code",
      "source": [
        ""
      ],
      "metadata": {
        "id": "jrLstIOo3arj"
      },
      "execution_count": null,
      "outputs": []
    }
  ]
}